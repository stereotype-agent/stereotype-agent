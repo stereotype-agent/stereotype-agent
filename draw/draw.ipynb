{
 "cells": [
  {
   "cell_type": "markdown",
   "metadata": {},
   "source": [
    "## 批量画图"
   ]
  },
  {
   "cell_type": "code",
   "execution_count": 2,
   "metadata": {},
   "outputs": [
    {
     "name": "stderr",
     "output_type": "stream",
     "text": [
      "/root/miniconda3/lib/python3.10/site-packages/tqdm/auto.py:22: TqdmWarning: IProgress not found. Please update jupyter and ipywidgets. See https://ipywidgets.readthedocs.io/en/stable/user_install.html\n",
      "  from .autonotebook import tqdm as notebook_tqdm\n"
     ]
    }
   ],
   "source": [
    "import yaml\n",
    "import json\n",
    "\n",
    "from venus_api_base.venus_openapi import PyVenusOpenApi\n",
    "\n",
    "with open('./task.yaml', 'r') as file:\n",
    "    task = yaml.safe_load(file)\n",
    "\n",
    "model_id = {\n",
    "    'ToonYou': 1000366,\n",
    "    'AbsoluteReality': 1000362,\n",
    "    'NovelAI': 9,\n",
    "    'SD v1_4': 10, \n",
    "    'Anything': 11,\n",
    "    'ChilloutMix': 15,\n",
    "    'DeepFloyd IF': 1000162,\n",
    "    'Any Pastel': 14,\n",
    "    'AllinOne PixelModel': 13\n",
    "}\n",
    "\n",
    "model_name = ['ToonYou', 'AbsoluteReality', 'NovelAI', 'SD v1_4', 'Anything', 'ChilloutMix', 'DeepFloyd IF', 'Any Pastel', 'AllinOne PixelModel']"
   ]
  },
  {
   "cell_type": "markdown",
   "metadata": {},
   "source": [
    "一个批次生成 5 次（generate_num），每次生成 4 张，因此一个批次正好生成 20 张。\n",
    "在 [Ai Draw](https://aidraw.woa.com/#/generate/list) 网站在线查看生成结果。"
   ]
  },
  {
   "cell_type": "code",
   "execution_count": 16,
   "metadata": {},
   "outputs": [
    {
     "name": "stdout",
     "output_type": "stream",
     "text": [
      "{\"app_group_id\": 1, \"creator\": \"qichaoswang\", \"notify_users\": [\"qichaoswang\"], \"notify_slice_num\": 4, \"callback_api\": \"\", \"auth_token\": \"\", \"caption_list\": [{\"sub_id\": 0, \"caption\": \"Chinese women\"}, {\"sub_id\": 1, \"caption\": \"Chinese women\"}, {\"sub_id\": 2, \"caption\": \"Chinese women\"}, {\"sub_id\": 3, \"caption\": \"Chinese women\"}, {\"sub_id\": 4, \"caption\": \"Chinese women\"}], \"neg_prompt\": \"\", \"batch_size\": 4, \"model_id\": 1000362, \"size_id\": 7, \"scale\": 11, \"step_num\": 28, \"sampler_id\": 4, \"task_type\": \"txt2img\", \"hires_fix\": null, \"controlnet_units\": [], \"style_model_prompts\": [], \"restore_faces\": {\"enabled\": false, \"gfpgan_visibility\": 0, \"codeformer_visibility\": 0, \"codeformer_weight\": 0}, \"upscale\": {\"enabled\": false, \"upscaling_crop\": false, \"upscaling_resize_w\": 512, \"upscaling_resize_h\": 512, \"upscaler_1\": \"None\", \"upscaler_2\": \"None\", \"extras_upscaler_2_visibility\": 0}}\n",
      "{'code': 0, 'msg': 'success', 'data': {'task_id': 797, 'taskid_list': [1491948, 1491949, 1491950, 1491951, 1491952], 'creator': 'qichaoswang', 'caption_num': 5, 'total_img_num': 20, 'caption_cos_url': 'https://cn-venus-public-01-1258344701.cos-internal.ap-guangzhou.tencentcos.cn//aidraw/upload/prod/qichaoswang/4aa6316f-640d-4e0b-81dc-57b419e9d297/20230726150758.json'}, 'retCode': 0}\n"
     ]
    }
   ],
   "source": [
    "# 每次画图需要修改的参数\n",
    "## 生成 prompt\n",
    "text = 'Chinese women'\n",
    "## 使用第几个模型，范围 0-8，共 9 个免费模型\n",
    "model_idx = 0\n",
    "\n",
    "generate_num = 5\n",
    "venus_private_ak = task['venus_private_ak']\n",
    "venus_private_sk = task['venus_private_sk']\n",
    "api = PyVenusOpenApi(venus_private_ak, venus_private_sk)\n",
    "# post 接口测试，batch_draw\n",
    "data = {\n",
    "    \"app_group_id\": 1, #替换为自己的应用组ID\n",
    "    \"creator\": task['creator'],\n",
    "    \"notify_users\": [task['creator']],\n",
    "    \"notify_slice_num\": 4,\n",
    "    \"callback_api\": \"\",\n",
    "    \"auth_token\": \"\",\n",
    "    # \"caption_list\": [{\"sub_id\": 1, \"caption\": text}, {\"sub_id\": 2, \"caption\": text}, {\"sub_id\": 3, \"caption\": text}, {\"sub_id\": 4, \"caption\": text}, {\"sub_id\": 4, \"caption\": text}],\n",
    "    \"caption_list\": [{\"sub_id\": i, \"caption\": text} for i in range(generate_num)],\n",
    "    \"neg_prompt\": \"\",\n",
    "    \"batch_size\": 4,\n",
    "    \"model_id\": model_id[model_name[model_idx]],\n",
    "    \"size_id\": 7,\n",
    "    \"scale\": 11,\n",
    "    \"step_num\": 28,\n",
    "    \"sampler_id\": 4,\n",
    "    \"task_type\": \"txt2img\",\n",
    "    \"hires_fix\": None,\n",
    "    \"controlnet_units\": [],\n",
    "    \"style_model_prompts\": [],\n",
    "    # 面部修复相关参数, 不需要可以整个配置去掉\n",
    "    \"restore_faces\": {\n",
    "      \"enabled\": False,           # 是否开启\n",
    "      \"gfpgan_visibility\": 0,     # 面部修复程度[0,1]\n",
    "      \"codeformer_visibility\": 0, # 面部重建程度[0,1]\n",
    "      \"codeformer_weight\": 0,     # 面部重建权重[0,1]\n",
    "    },\n",
    "    # 高分辨率相关参数, 不需要可以整个配置去掉\n",
    "    \"upscale\": {\n",
    "      \"enabled\": False,           # 是否开启\n",
    "      \"upscaling_crop\": False,    # 是否裁剪以适应宽高比\n",
    "      \"upscaling_resize_w\": 512,  # 裁剪后宽度\n",
    "      \"upscaling_resize_h\": 512,  # 裁剪后高度\n",
    "      \"upscaler_1\": \"None\",       # 高清算法1: None/Lanczos/Nearest/ESRGAN_4x/LDSR/R-ESRGAN 4x+/R-ESRGAN 4x+ Anime6B/ScuNET/ScuNET PSNR/SwinIR_4x\n",
    "      \"upscaler_2\": \"None\",       # 高清算法2: None/Lanczos/Nearest/ESRGAN_4x/LDSR/R-ESRGAN 4x+/R-ESRGAN 4x+ Anime6B/ScuNET/ScuNET PSNR/SwinIR_4x\n",
    "      \"extras_upscaler_2_visibility\": 0,  # 算法2可见度\n",
    "    },\n",
    "}\n",
    "\n",
    "# 必须要这个header才行\n",
    "header = {\n",
    "    'Content-Type': 'application/json' \n",
    "}\n",
    "\n",
    "print(json.dumps(data))\n",
    "ret = api.post(\"http://v2.open.venus.oa.com/aidraw/api/batch_draw\", header, json.dumps(data))\n",
    "print(ret)\n"
   ]
  },
  {
   "cell_type": "code",
   "execution_count": null,
   "metadata": {},
   "outputs": [],
   "source": []
  }
 ],
 "metadata": {
  "kernelspec": {
   "display_name": "base",
   "language": "python",
   "name": "python3"
  },
  "language_info": {
   "codemirror_mode": {
    "name": "ipython",
    "version": 3
   },
   "file_extension": ".py",
   "mimetype": "text/x-python",
   "name": "python",
   "nbconvert_exporter": "python",
   "pygments_lexer": "ipython3",
   "version": "3.10.9"
  },
  "orig_nbformat": 4
 },
 "nbformat": 4,
 "nbformat_minor": 2
}
